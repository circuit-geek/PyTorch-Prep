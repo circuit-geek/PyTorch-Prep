{
 "cells": [
  {
   "cell_type": "code",
   "execution_count": 26,
   "id": "cc6da0c4",
   "metadata": {},
   "outputs": [],
   "source": [
    "import torch\n",
    "import numpy as np\n",
    "import matplotlib.pyplot as plt\n",
    "import torch.nn as nn"
   ]
  },
  {
   "cell_type": "code",
   "execution_count": 27,
   "id": "f584fe07",
   "metadata": {},
   "outputs": [],
   "source": [
    "X = torch.linspace(1, 50, 50).reshape(-1, 1)"
   ]
  },
  {
   "cell_type": "code",
   "execution_count": 28,
   "id": "a47dd802",
   "metadata": {
    "scrolled": true
   },
   "outputs": [
    {
     "data": {
      "text/plain": [
       "tensor([[ 1.],\n",
       "        [ 2.],\n",
       "        [ 3.],\n",
       "        [ 4.],\n",
       "        [ 5.],\n",
       "        [ 6.],\n",
       "        [ 7.],\n",
       "        [ 8.],\n",
       "        [ 9.],\n",
       "        [10.],\n",
       "        [11.],\n",
       "        [12.],\n",
       "        [13.],\n",
       "        [14.],\n",
       "        [15.],\n",
       "        [16.],\n",
       "        [17.],\n",
       "        [18.],\n",
       "        [19.],\n",
       "        [20.],\n",
       "        [21.],\n",
       "        [22.],\n",
       "        [23.],\n",
       "        [24.],\n",
       "        [25.],\n",
       "        [26.],\n",
       "        [27.],\n",
       "        [28.],\n",
       "        [29.],\n",
       "        [30.],\n",
       "        [31.],\n",
       "        [32.],\n",
       "        [33.],\n",
       "        [34.],\n",
       "        [35.],\n",
       "        [36.],\n",
       "        [37.],\n",
       "        [38.],\n",
       "        [39.],\n",
       "        [40.],\n",
       "        [41.],\n",
       "        [42.],\n",
       "        [43.],\n",
       "        [44.],\n",
       "        [45.],\n",
       "        [46.],\n",
       "        [47.],\n",
       "        [48.],\n",
       "        [49.],\n",
       "        [50.]])"
      ]
     },
     "execution_count": 28,
     "metadata": {},
     "output_type": "execute_result"
    }
   ],
   "source": [
    "X"
   ]
  },
  {
   "cell_type": "code",
   "execution_count": 29,
   "id": "56c59b32",
   "metadata": {},
   "outputs": [],
   "source": [
    "torch.manual_seed(42)\n",
    "\n",
    "e = torch.randint(-8, 9, (50,1), dtype=torch.float)"
   ]
  },
  {
   "cell_type": "code",
   "execution_count": 30,
   "id": "b54f30bd",
   "metadata": {
    "scrolled": true
   },
   "outputs": [
    {
     "data": {
      "text/plain": [
       "tensor([[ 5.],\n",
       "        [ 6.],\n",
       "        [ 3.],\n",
       "        [ 4.],\n",
       "        [-1.],\n",
       "        [-2.],\n",
       "        [-6.],\n",
       "        [ 3.],\n",
       "        [-8.],\n",
       "        [-4.],\n",
       "        [ 1.],\n",
       "        [-3.],\n",
       "        [ 5.],\n",
       "        [-3.],\n",
       "        [-7.],\n",
       "        [-5.],\n",
       "        [-4.],\n",
       "        [ 2.],\n",
       "        [-5.],\n",
       "        [-4.],\n",
       "        [ 0.],\n",
       "        [-2.],\n",
       "        [-3.],\n",
       "        [-6.],\n",
       "        [-3.],\n",
       "        [-4.],\n",
       "        [ 2.],\n",
       "        [-6.],\n",
       "        [-2.],\n",
       "        [ 3.],\n",
       "        [-5.],\n",
       "        [ 6.],\n",
       "        [-7.],\n",
       "        [ 6.],\n",
       "        [ 5.],\n",
       "        [ 0.],\n",
       "        [-5.],\n",
       "        [-2.],\n",
       "        [-1.],\n",
       "        [-3.],\n",
       "        [-8.],\n",
       "        [ 4.],\n",
       "        [ 4.],\n",
       "        [-7.],\n",
       "        [ 8.],\n",
       "        [ 0.],\n",
       "        [ 6.],\n",
       "        [ 4.],\n",
       "        [-3.],\n",
       "        [-6.]])"
      ]
     },
     "execution_count": 30,
     "metadata": {},
     "output_type": "execute_result"
    }
   ],
   "source": [
    "e"
   ]
  },
  {
   "cell_type": "code",
   "execution_count": 31,
   "id": "18319ff0",
   "metadata": {},
   "outputs": [],
   "source": [
    "y = 2*X + 1 + e"
   ]
  },
  {
   "cell_type": "code",
   "execution_count": 32,
   "id": "8a8b0214",
   "metadata": {},
   "outputs": [
    {
     "data": {
      "text/plain": [
       "torch.Size([50, 1])"
      ]
     },
     "execution_count": 32,
     "metadata": {},
     "output_type": "execute_result"
    }
   ],
   "source": [
    "y.shape"
   ]
  },
  {
   "cell_type": "code",
   "execution_count": 33,
   "id": "5deafe4b",
   "metadata": {
    "scrolled": true
   },
   "outputs": [
    {
     "data": {
      "text/plain": [
       "<matplotlib.collections.PathCollection at 0x22bcc0e7f70>"
      ]
     },
     "execution_count": 33,
     "metadata": {},
     "output_type": "execute_result"
    },
    {
     "data": {
      "image/png": "[encoded data removed]",
      "text/plain": [
       "<Figure size 432x288 with 1 Axes>"
      ]
     },
     "metadata": {
      "needs_background": "light"
     },
     "output_type": "display_data"
    }
   ],
   "source": [
    "plt.scatter(X.numpy(), y.numpy())"
   ]
  },
  {
   "cell_type": "code",
   "execution_count": 34,
   "id": "1dbe7bb2",
   "metadata": {},
   "outputs": [
    {
     "name": "stdout",
     "output_type": "stream",
     "text": [
      "Parameter containing:\n",
      "tensor([[0.7645]], requires_grad=True)\n",
      "Parameter containing:\n",
      "tensor([0.8300], requires_grad=True)\n"
     ]
    }
   ],
   "source": [
    "torch.manual_seed(42)\n",
    "\n",
    "model = nn.Linear(in_features=1, out_features=1)\n",
    "print(model.weight)\n",
    "print(model.bias)"
   ]
  },
  {
   "cell_type": "code",
   "execution_count": 35,
   "id": "2648f240",
   "metadata": {},
   "outputs": [],
   "source": [
    "class Model(nn.Module):\n",
    "    \n",
    "    def __init__(self, in_features, out_features):\n",
    "        super().__init__()\n",
    "        self.linear = nn.Linear(in_features, out_features)\n",
    "        \n",
    "    def forward(self, x):\n",
    "        y_pred = self.linear(x)\n",
    "        return y_pred"
   ]
  },
  {
   "cell_type": "code",
   "execution_count": 36,
   "id": "fd140c9b",
   "metadata": {},
   "outputs": [
    {
     "name": "stdout",
     "output_type": "stream",
     "text": [
      "Parameter containing:\n",
      "tensor([[0.7645]], requires_grad=True)\n",
      "Parameter containing:\n",
      "tensor([0.8300], requires_grad=True)\n"
     ]
    }
   ],
   "source": [
    "torch.manual_seed(42)\n",
    "\n",
    "model = Model(1,1)\n",
    "\n",
    "print(model.linear.weight)\n",
    "print(model.linear.bias)"
   ]
  },
  {
   "cell_type": "code",
   "execution_count": 37,
   "id": "963f756a",
   "metadata": {},
   "outputs": [
    {
     "name": "stdout",
     "output_type": "stream",
     "text": [
      "linear.weight \t 0.7645385265350342\n",
      "linear.bias \t 0.8300079107284546\n"
     ]
    }
   ],
   "source": [
    "for name, param in model.named_parameters():\n",
    "    print(name, '\\t', param.item())"
   ]
  },
  {
   "cell_type": "code",
   "execution_count": 38,
   "id": "a0ae62e1",
   "metadata": {},
   "outputs": [],
   "source": [
    "x1 = np.linspace(0.0, 50.0, 50)"
   ]
  },
  {
   "cell_type": "code",
   "execution_count": 39,
   "id": "81862843",
   "metadata": {},
   "outputs": [
    {
     "data": {
      "text/plain": [
       "array([ 0.        ,  1.02040816,  2.04081633,  3.06122449,  4.08163265,\n",
       "        5.10204082,  6.12244898,  7.14285714,  8.16326531,  9.18367347,\n",
       "       10.20408163, 11.2244898 , 12.24489796, 13.26530612, 14.28571429,\n",
       "       15.30612245, 16.32653061, 17.34693878, 18.36734694, 19.3877551 ,\n",
       "       20.40816327, 21.42857143, 22.44897959, 23.46938776, 24.48979592,\n",
       "       25.51020408, 26.53061224, 27.55102041, 28.57142857, 29.59183673,\n",
       "       30.6122449 , 31.63265306, 32.65306122, 33.67346939, 34.69387755,\n",
       "       35.71428571, 36.73469388, 37.75510204, 38.7755102 , 39.79591837,\n",
       "       40.81632653, 41.83673469, 42.85714286, 43.87755102, 44.89795918,\n",
       "       45.91836735, 46.93877551, 47.95918367, 48.97959184, 50.        ])"
      ]
     },
     "execution_count": 39,
     "metadata": {},
     "output_type": "execute_result"
    }
   ],
   "source": [
    "x1"
   ]
  },
  {
   "cell_type": "code",
   "execution_count": 40,
   "id": "e32c6ea2",
   "metadata": {},
   "outputs": [],
   "source": [
    "w1 = 0.7645\n",
    "b1 = 0.8300"
   ]
  },
  {
   "cell_type": "code",
   "execution_count": 41,
   "id": "06900227",
   "metadata": {},
   "outputs": [],
   "source": [
    "y1 = x1*w1 + b1"
   ]
  },
  {
   "cell_type": "code",
   "execution_count": 42,
   "id": "120d8164",
   "metadata": {},
   "outputs": [
    {
     "data": {
      "text/plain": [
       "array([ 0.83      ,  1.61010204,  2.39020408,  3.17030612,  3.95040816,\n",
       "        4.7305102 ,  5.51061224,  6.29071429,  7.07081633,  7.85091837,\n",
       "        8.63102041,  9.41112245, 10.19122449, 10.97132653, 11.75142857,\n",
       "       12.53153061, 13.31163265, 14.09173469, 14.87183673, 15.65193878,\n",
       "       16.43204082, 17.21214286, 17.9922449 , 18.77234694, 19.55244898,\n",
       "       20.33255102, 21.11265306, 21.8927551 , 22.67285714, 23.45295918,\n",
       "       24.23306122, 25.01316327, 25.79326531, 26.57336735, 27.35346939,\n",
       "       28.13357143, 28.91367347, 29.69377551, 30.47387755, 31.25397959,\n",
       "       32.03408163, 32.81418367, 33.59428571, 34.37438776, 35.1544898 ,\n",
       "       35.93459184, 36.71469388, 37.49479592, 38.27489796, 39.055     ])"
      ]
     },
     "execution_count": 42,
     "metadata": {},
     "output_type": "execute_result"
    }
   ],
   "source": [
    "y1"
   ]
  },
  {
   "cell_type": "code",
   "execution_count": 43,
   "id": "e5cd8bd3",
   "metadata": {},
   "outputs": [
    {
     "data": {
      "text/plain": [
       "[<matplotlib.lines.Line2D at 0x22bcc21e6a0>]"
      ]
     },
     "execution_count": 43,
     "metadata": {},
     "output_type": "execute_result"
    },
    {
     "data": {
      "image/png": "[encoded data removed]",
      "text/plain": [
       "<Figure size 432x288 with 1 Axes>"
      ]
     },
     "metadata": {
      "needs_background": "light"
     },
     "output_type": "display_data"
    }
   ],
   "source": [
    "plt.scatter(X.numpy(), y.numpy())\n",
    "plt.plot(x1, y1, 'r')"
   ]
  },
  {
   "cell_type": "code",
   "execution_count": 44,
   "id": "ed1b6518",
   "metadata": {},
   "outputs": [],
   "source": [
    "criterion = nn.MSELoss()"
   ]
  },
  {
   "cell_type": "code",
   "execution_count": 45,
   "id": "d5c6ee65",
   "metadata": {},
   "outputs": [],
   "source": [
    "optimizer = torch.optim.SGD(model.parameters(), lr=0.001)"
   ]
  },
  {
   "cell_type": "code",
   "execution_count": 46,
   "id": "06cd5fa5",
   "metadata": {
    "scrolled": true
   },
   "outputs": [
    {
     "name": "stdout",
     "output_type": "stream",
     "text": [
      "epoch: 1 => loss: 1284.1829833984375, weight: 0.7645385265350342, bias: 0.8300079107284546\n",
      "epoch: 2 => loss: 672.6824951171875, weight: 2.848055124282837, bias: 0.8914364576339722\n",
      "epoch: 3 => loss: 356.987060546875, weight: 1.3510414361953735, bias: 0.8464827537536621\n",
      "epoch: 4 => loss: 194.00506591796875, weight: 2.4266929626464844, bias: 0.8779667019844055\n",
      "epoch: 5 => loss: 109.86296844482422, weight: 1.6538447141647339, bias: 0.8545294404029846\n",
      "epoch: 6 => loss: 66.42324829101562, weight: 2.209172248840332, bias: 0.8705543279647827\n",
      "epoch: 7 => loss: 43.996788024902344, weight: 1.8101853132247925, bias: 0.8582254648208618\n",
      "epoch: 8 => loss: 32.418701171875, weight: 2.0968875885009766, bias: 0.866269588470459\n",
      "epoch: 9 => loss: 26.441265106201172, weight: 1.8909118175506592, bias: 0.8596757650375366\n",
      "epoch: 10 => loss: 23.355209350585938, weight: 2.0389328002929688, bias: 0.8635998964309692\n",
      "epoch: 11 => loss: 21.761882781982422, weight: 1.9326014518737793, bias: 0.8599671125411987\n",
      "epoch: 12 => loss: 20.939186096191406, weight: 2.009026288986206, bias: 0.8617644906044006\n",
      "epoch: 13 => loss: 20.514360427856445, weight: 1.9541382789611816, bias: 0.8596606254577637\n",
      "epoch: 14 => loss: 20.2949275970459, weight: 1.9936002492904663, bias: 0.8603602647781372\n",
      "epoch: 15 => loss: 20.18152618408203, weight: 1.9652702808380127, bias: 0.8590459227561951\n",
      "epoch: 16 => loss: 20.12289047241211, weight: 1.985649824142456, bias: 0.8591790199279785\n",
      "epoch: 17 => loss: 20.092498779296875, weight: 1.9710310697555542, bias: 0.8582724928855896\n",
      "epoch: 18 => loss: 20.076698303222656, weight: 1.9815590381622314, bias: 0.8581133484840393\n",
      "epoch: 19 => loss: 20.068445205688477, weight: 1.9740183353424072, bias: 0.8574175834655762\n",
      "epoch: 20 => loss: 20.064069747924805, weight: 1.979460597038269, bias: 0.8571078181266785\n",
      "epoch: 21 => loss: 20.061702728271484, weight: 1.975574254989624, bias: 0.8565211296081543\n",
      "epoch: 22 => loss: 20.060379028320312, weight: 1.9783906936645508, bias: 0.8561338186264038\n",
      "epoch: 23 => loss: 20.059579849243164, weight: 1.976391077041626, bias: 0.8556036353111267\n",
      "epoch: 24 => loss: 20.059064865112305, weight: 1.9778517484664917, bias: 0.8551765084266663\n",
      "epoch: 25 => loss: 20.058692932128906, weight: 1.9768263101577759, bias: 0.8546757102012634\n",
      "epoch: 26 => loss: 20.058401107788086, weight: 1.977587103843689, bias: 0.8542281985282898\n",
      "epoch: 27 => loss: 20.058137893676758, weight: 1.9770644903182983, bias: 0.853742778301239\n",
      "epoch: 28 => loss: 20.057893753051758, weight: 1.9774638414382935, bias: 0.853285014629364\n",
      "epoch: 29 => loss: 20.05766487121582, weight: 1.9772008657455444, bias: 0.8528077602386475\n",
      "epoch: 30 => loss: 20.05743408203125, weight: 1.9774137735366821, bias: 0.8523449301719666\n",
      "epoch: 31 => loss: 20.05721092224121, weight: 1.9772846698760986, bias: 0.8518721461296082\n",
      "epoch: 32 => loss: 20.056991577148438, weight: 1.9774012565612793, bias: 0.8514068722724915\n",
      "epoch: 33 => loss: 20.056777954101562, weight: 1.9773414134979248, bias: 0.8509365916252136\n",
      "epoch: 34 => loss: 20.05655288696289, weight: 1.9774084091186523, bias: 0.8504703044891357\n",
      "epoch: 35 => loss: 20.056339263916016, weight: 1.977384090423584, bias: 0.8500015139579773\n",
      "epoch: 36 => loss: 20.05611801147461, weight: 1.9774255752563477, bias: 0.8495349287986755\n",
      "epoch: 37 => loss: 20.05590057373047, weight: 1.9774196147918701, bias: 0.8490671515464783\n",
      "epoch: 38 => loss: 20.055683135986328, weight: 1.977447748184204, bias: 0.8486006259918213\n",
      "epoch: 39 => loss: 20.055452346801758, weight: 1.9774513244628906, bias: 0.8481335639953613\n",
      "epoch: 40 => loss: 20.05524444580078, weight: 1.9774725437164307, bias: 0.8476672768592834\n",
      "epoch: 41 => loss: 20.055028915405273, weight: 1.9774812459945679, bias: 0.847200870513916\n",
      "epoch: 42 => loss: 20.0548095703125, weight: 1.9774987697601318, bias: 0.8467349410057068\n",
      "epoch: 43 => loss: 20.05459213256836, weight: 1.9775099754333496, bias: 0.8462690114974976\n",
      "epoch: 44 => loss: 20.054372787475586, weight: 1.9775257110595703, bias: 0.845803439617157\n",
      "epoch: 45 => loss: 20.054157257080078, weight: 1.9775381088256836, bias: 0.8453380465507507\n",
      "epoch: 46 => loss: 20.053936004638672, weight: 1.9775530099868774, bias: 0.8448729515075684\n",
      "epoch: 47 => loss: 20.053726196289062, weight: 1.9775660037994385, bias: 0.8444079756736755\n",
      "epoch: 48 => loss: 20.053510665893555, weight: 1.9775804281234741, bias: 0.8439432978630066\n",
      "epoch: 49 => loss: 20.053298950195312, weight: 1.9775937795639038, bias: 0.843478798866272\n",
      "epoch: 50 => loss: 20.053075790405273, weight: 1.9776079654693604, bias: 0.8430145382881165\n"
     ]
    }
   ],
   "source": [
    "epochs = 50\n",
    "losses = []\n",
    "\n",
    "for i in range(epochs):\n",
    "    \n",
    "    i += 1\n",
    "    \n",
    "    y_pred = model.forward(X)\n",
    "    loss = criterion(y_pred, y)\n",
    "    losses.append(loss)\n",
    "    print(f\"epoch: {i} => loss: {loss.item()}, weight: {model.linear.weight.item()}, bias: {model.linear.bias.item()}\")\n",
    "    optimizer.zero_grad()\n",
    "    loss.backward()\n",
    "    optimizer.step()"
   ]
  },
  {
   "cell_type": "code",
   "execution_count": 52,
   "id": "f0e746f1",
   "metadata": {},
   "outputs": [
    {
     "data": {
      "text/plain": [
       "list"
      ]
     },
     "execution_count": 52,
     "metadata": {},
     "output_type": "execute_result"
    }
   ],
   "source": [
    "type(losses)"
   ]
  },
  {
   "cell_type": "code",
   "execution_count": 56,
   "id": "e69a2faa",
   "metadata": {},
   "outputs": [],
   "source": [
    "losses_np = []\n",
    "for loss in losses:\n",
    "    new_loss = loss.detach().numpy()\n",
    "    losses_np.append(new_loss)"
   ]
  },
  {
   "cell_type": "code",
   "execution_count": 57,
   "id": "fb0b553d",
   "metadata": {},
   "outputs": [
    {
     "data": {
      "text/plain": [
       "[<matplotlib.lines.Line2D at 0x22bd745a610>]"
      ]
     },
     "execution_count": 57,
     "metadata": {},
     "output_type": "execute_result"
    },
    {
     "data": {
      "image/png": "[encoded data removed]",
      "text/plain": [
       "<Figure size 432x288 with 1 Axes>"
      ]
     },
     "metadata": {
      "needs_background": "light"
     },
     "output_type": "display_data"
    }
   ],
   "source": [
    "plt.plot(range(epochs), losses_np)"
   ]
  },
  {
   "cell_type": "code",
   "execution_count": 58,
   "id": "c9f1a028",
   "metadata": {},
   "outputs": [],
   "source": [
    "x = np.linspace(0.0, 50.0, 50)\n",
    "updated_weight = model.linear.weight.item()\n",
    "updated_bias = model.linear.bias.item()\n",
    "\n",
    "pred_y = updated_weight*x + updated_bias"
   ]
  },
  {
   "cell_type": "code",
   "execution_count": 59,
   "id": "45656819",
   "metadata": {},
   "outputs": [
    {
     "data": {
      "text/plain": [
       "[<matplotlib.lines.Line2D at 0x22bd74a5640>]"
      ]
     },
     "execution_count": 59,
     "metadata": {},
     "output_type": "execute_result"
    },
    {
     "data": {
      "image/png": "[encoded data removed]",
      "text/plain": [
       "<Figure size 432x288 with 1 Axes>"
      ]
     },
     "metadata": {
      "needs_background": "light"
     },
     "output_type": "display_data"
    }
   ],
   "source": [
    "plt.scatter(X.numpy(), y.numpy())\n",
    "plt.plot(x, pred_y, 'r')"
   ]
  },
  {
   "cell_type": "code",
   "execution_count": null,
   "id": "c531a303",
   "metadata": {},
   "outputs": [],
   "source": []
  }
 ],
 "metadata": {
  "kernelspec": {
   "display_name": "Python 3.9 (pytorch)",
   "language": "python",
   "name": "pytorch"
  },
  "language_info": {
   "codemirror_mode": {
    "name": "ipython",
    "version": 3
   },
   "file_extension": ".py",
   "mimetype": "text/x-python",
   "name": "python",
   "nbconvert_exporter": "python",
   "pygments_lexer": "ipython3",
   "version": "3.9.12"
  }
 },
 "nbformat": 4,
 "nbformat_minor": 5
}
